{
 "cells": [
  {
   "cell_type": "markdown",
   "id": "3d5623d6",
   "metadata": {},
   "source": [
    "# Importing dependencies"
   ]
  },
  {
   "cell_type": "code",
   "execution_count": 2,
   "id": "1e7b2c94",
   "metadata": {},
   "outputs": [],
   "source": [
    "import numpy as np\n",
    "import pandas as pd\n",
    "import difflib # To find the initial closest match of user input movie from the dataset\n",
    "from sklearn.feature_extraction.text import TfidfVectorizer # To convert textual vector to numerical vector\n",
    "from sklearn.metrics.pairwise import cosine_similarity # To use cosine similarity"
   ]
  },
  {
   "cell_type": "markdown",
   "id": "c95d38b2",
   "metadata": {},
   "source": []
  },
  {
   "cell_type": "markdown",
   "id": "f6ccd3ec",
   "metadata": {},
   "source": [
    "# Data Collection and preprocessing\n"
   ]
  },
  {
   "cell_type": "code",
   "execution_count": 11,
   "id": "e5bbe5f5",
   "metadata": {},
   "outputs": [
    {
     "data": {
      "text/plain": [
       "['Inception',\n",
       " 'The Dark Knight',\n",
       " 'Avatar',\n",
       " 'The Avengers',\n",
       " 'Deadpool',\n",
       " 'Interstellar',\n",
       " 'Django Unchained',\n",
       " 'Guardians of the Galaxy',\n",
       " 'The Hunger Games',\n",
       " 'Mad Max: Fury Road']"
      ]
     },
     "execution_count": 11,
     "metadata": {},
     "output_type": "execute_result"
    }
   ],
   "source": [
    "# Merging two DataFrames\n",
    "df_movies = pd.read_csv(\"../Movie_recommendation_system/tmdb_5000_movies.csv\")\n",
    "df_credits = pd.read_csv(\"../Movie_recommendation_system/tmdb_5000_credits.csv\")\n",
    "\n",
    "# Renaming column name from \"id\" to \"movie_id\"\n",
    "df_movies = df_movies.rename(columns = {\"id\":\"movie_id\"})\n",
    "\n",
    "# Merging two DataFrames for efficient recommendation \n",
    "movie_df = pd.merge(df_movies,df_credits,on = \"movie_id\")\n",
    "\n",
    "movie_df = movie_df.drop([\"title_x\",\"title_y\"],axis = 1)\n",
    "\n",
    "movie_df\n",
    "\n",
    "\n",
    "# Extrcting rating df only to display top 10 most rated movies, if the use specified movie is not present in the data set\n",
    "\n",
    "rating_df = movie_df.sort_values(by = [\"vote_count\"],ascending = False)\n",
    "top_10_movies = rating_df[\"original_title\"].head(10).tolist()\n",
    "top_10_movies"
   ]
  },
  {
   "cell_type": "markdown",
   "id": "879a11a8",
   "metadata": {},
   "source": []
  },
  {
   "cell_type": "code",
   "execution_count": 3,
   "id": "bec85535",
   "metadata": {},
   "outputs": [],
   "source": [
    "relevant_features = ['genres','keywords','tagline','cast','director']\n",
    "\n",
    "\n",
    "# Filling all NaNs with empty string to all columns\n",
    "for column in movie_df.columns:\n",
    "\n",
    "    if movie_df[column].isnull().any() == True:\n",
    "        movie_df[column] = movie_df[column].fillna('')\n"
   ]
  },
  {
   "cell_type": "code",
   "execution_count": 4,
   "id": "982946a2",
   "metadata": {},
   "outputs": [],
   "source": [
    "# Combining all the selected features\n",
    "combined_features = movie_df[\"genres\"] + \" \" + movie_df[\"keywords\"] + \" \" + movie_df[\"overview\"] + \" \" + movie_df[\"tagline\"]+ \" \" +movie_df[\"cast\"]+\" \"+movie_df[\"production_companies\"]\n",
    "\n"
   ]
  },
  {
   "cell_type": "code",
   "execution_count": 5,
   "id": "08d5ad4e",
   "metadata": {},
   "outputs": [],
   "source": [
    "# Converting the textual data to numerical data\n",
    "vectorizer = TfidfVectorizer()"
   ]
  },
  {
   "cell_type": "code",
   "execution_count": 6,
   "id": "59a7b3dc",
   "metadata": {},
   "outputs": [],
   "source": [
    "feature_numerical_vectors = vectorizer.fit_transform(combined_features)\n"
   ]
  },
  {
   "cell_type": "markdown",
   "id": "3f950b12",
   "metadata": {},
   "source": [
    "# Applying cosine similarity"
   ]
  },
  {
   "cell_type": "code",
   "execution_count": 7,
   "id": "5cb75d85",
   "metadata": {},
   "outputs": [],
   "source": [
    "# Getting the similarity scores using cosine similarity\n",
    "similarity = cosine_similarity(feature_numerical_vectors)\n"
   ]
  },
  {
   "cell_type": "code",
   "execution_count": 9,
   "id": "4e4d1f87",
   "metadata": {},
   "outputs": [
    {
     "name": "stdout",
     "output_type": "stream",
     "text": [
      "Enter your favorite movie name:The dark knight\n"
     ]
    }
   ],
   "source": [
    "favt_movie_name = input(\"Enter your favorite movie name:\")"
   ]
  },
  {
   "cell_type": "code",
   "execution_count": 10,
   "id": "688f222e",
   "metadata": {},
   "outputs": [],
   "source": [
    "# Getting a list of all the movie names mentioned in the dataset\n",
    "list_of_all_movies = movie_df[\"original_title\"].tolist()\n"
   ]
  },
  {
   "cell_type": "code",
   "execution_count": 11,
   "id": "4220b911",
   "metadata": {},
   "outputs": [
    {
     "data": {
      "text/plain": [
       "'The Dark Knight'"
      ]
     },
     "execution_count": 11,
     "metadata": {},
     "output_type": "execute_result"
    }
   ],
   "source": [
    "# Finding closest match for the movie name given by the user\n",
    "find_match_movies = difflib.get_close_matches(favt_movie_name,list_of_all_movies)\n",
    "closest_match_movie = find_match_movies[0]\n",
    "closest_match_movie"
   ]
  },
  {
   "cell_type": "code",
   "execution_count": 12,
   "id": "55cfe792",
   "metadata": {},
   "outputs": [
    {
     "data": {
      "text/plain": [
       "65"
      ]
     },
     "execution_count": 12,
     "metadata": {},
     "output_type": "execute_result"
    }
   ],
   "source": [
    "# Finding the index of the movie provided by the user\n",
    "index_of_favt_movie = movie_df[movie_df[\"original_title\"] == closest_match_movie].index[0]\n",
    "index_of_favt_movie"
   ]
  },
  {
   "cell_type": "code",
   "execution_count": 13,
   "id": "4ba928a8",
   "metadata": {},
   "outputs": [],
   "source": [
    "# Getting similarity row of particular index_of_favt_movie\n",
    "\n",
    "# Here enumerate() is used to get both the index and the corresponding similarity score of each movie, returns a list of tuples(index,similarity score)\n",
    "similarity_score_of_favt_movie = list(enumerate(similarity[index_of_favt_movie]))\n",
    "\n"
   ]
  },
  {
   "cell_type": "code",
   "execution_count": 14,
   "id": "13f1845d",
   "metadata": {
    "scrolled": false
   },
   "outputs": [],
   "source": [
    "# Sorting the list in decreasing order, so that we can choose the top most similar movies which has highest similarity score\n",
    "sorted_similar_movies = sorted(similarity_score_of_favt_movie, key = lambda x:x[1],reverse=True)\n"
   ]
  },
  {
   "cell_type": "markdown",
   "id": "8758fc7f",
   "metadata": {},
   "source": [
    "# Retrieving top similar movies with that of given movie"
   ]
  },
  {
   "cell_type": "code",
   "execution_count": 15,
   "id": "c3d27e34",
   "metadata": {},
   "outputs": [
    {
     "name": "stdout",
     "output_type": "stream",
     "text": [
      "Similar movies recommended for you!!\n",
      "\n",
      "\n",
      "The Dark Knight Rises 0.7428899434846056\n",
      "American Gangster 0.7403957715940724\n",
      "Spider-Man 3 0.729440031728997\n",
      "The Life of David Gale 0.7257238624001825\n",
      "Batman v Superman: Dawn of Justice 0.7206832420838649\n",
      "Inherent Vice 0.7120768970580503\n",
      "Django Unchained 0.7099627374198296\n",
      "GoodFellas 0.7068113127335884\n",
      "Gone Girl 0.7052289414861093\n",
      "The Avengers 0.7018465420151908\n",
      "15 Minutes 0.7016544600686186\n",
      "Batman Begins 0.7009026288916638\n",
      "Suicide Squad 0.7004651051039957\n",
      "Hot Pursuit 0.6999328030553839\n",
      "The Hangover 0.6998411983775945\n"
     ]
    }
   ],
   "source": [
    "# Print the names of similar movies based on index value\n",
    "print(\"Similar movies recommended for you!!\\n\\n\")\n",
    "i = 1\n",
    "\n",
    "for movie in sorted_similar_movies:\n",
    "    \n",
    "    index = movie[0]\n",
    "    similarity_num = movie[1]\n",
    "    recommended_movie = movie_df.iloc[index][\"original_title\"]\n",
    "    \n",
    "    if recommended_movie == closest_match_movie:\n",
    "        continue\n",
    "        \n",
    "    if(i < 16):\n",
    "        print(recommended_movie,similarity_num)\n",
    "        i += 1\n",
    "    else:\n",
    "        break"
   ]
  },
  {
   "cell_type": "code",
   "execution_count": null,
   "id": "e0827b70",
   "metadata": {},
   "outputs": [],
   "source": []
  },
  {
   "cell_type": "markdown",
   "id": "ec36b8ed",
   "metadata": {},
   "source": [
    "# Desiging the GUI part"
   ]
  },
  {
   "cell_type": "code",
   "execution_count": null,
   "id": "0964dc67",
   "metadata": {},
   "outputs": [],
   "source": []
  },
  {
   "cell_type": "code",
   "execution_count": null,
   "id": "4eae901e",
   "metadata": {},
   "outputs": [],
   "source": []
  }
 ],
 "metadata": {
  "kernelspec": {
   "display_name": "Python 3 (ipykernel)",
   "language": "python",
   "name": "python3"
  },
  "language_info": {
   "codemirror_mode": {
    "name": "ipython",
    "version": 3
   },
   "file_extension": ".py",
   "mimetype": "text/x-python",
   "name": "python",
   "nbconvert_exporter": "python",
   "pygments_lexer": "ipython3",
   "version": "3.10.9"
  }
 },
 "nbformat": 4,
 "nbformat_minor": 5
}
